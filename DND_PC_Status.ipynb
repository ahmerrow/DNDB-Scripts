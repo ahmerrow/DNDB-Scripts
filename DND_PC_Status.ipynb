{
  "nbformat": 4,
  "nbformat_minor": 0,
  "metadata": {
    "colab": {
      "name": "DND-PC-Status.ipynb",
      "provenance": [],
      "collapsed_sections": [],
      "authorship_tag": "ABX9TyN9IHU0UzrCwIASwF/TVr4o",
      "include_colab_link": true
    },
    "kernelspec": {
      "name": "python3",
      "display_name": "Python 3"
    }
  },
  "cells": [
    {
      "cell_type": "markdown",
      "metadata": {
        "id": "view-in-github",
        "colab_type": "text"
      },
      "source": [
        "<a href=\"https://colab.research.google.com/github/ahmerrow/DNDB-Scripts/blob/main/DND_PC_Status.ipynb\" target=\"_parent\"><img src=\"https://colab.research.google.com/assets/colab-badge.svg\" alt=\"Open In Colab\"/></a>"
      ]
    },
    {
      "cell_type": "markdown",
      "metadata": {
        "id": "PR7-gBCIXMrc"
      },
      "source": [
        "# Setup Functions - Run if the bottom section doesn't work.\r\n",
        "Runtime - Run All will update the whole page"
      ]
    },
    {
      "cell_type": "code",
      "metadata": {
        "cellView": "form",
        "id": "qMzWCUQXXFBo"
      },
      "source": [
        "#@title\n",
        "import requests, math\n",
        "import pandas as pd\n",
        "\n",
        "def get_hp(char_data):\n",
        "  base_hp = char_data['data']['baseHitPoints'] # purely determined by hit dice\n",
        "  removed_hp = char_data['data']['removedHitPoints'] # damage\n",
        "  temp_hp = char_data['data']['temporaryHitPoints']\n",
        "  bonus_hp_input = char_data['data']['bonusHitPoints']\n",
        "  if type(bonus_hp_input) is int:\n",
        "    bonus_hp = bonus_hp_input\n",
        "  else:\n",
        "    bonus_hp = 0\n",
        "  con_score = calc_ability_score(char_data,'CON')\n",
        "  con_mod = calc_score_modifier(con_score)\n",
        "  level = get_total_level(char_data)\n",
        "  max_hp = base_hp + (con_mod * level)\n",
        "  hp_remaining = max_hp - removed_hp + temp_hp + bonus_hp\n",
        "  hp_str = str(hp_remaining) + '/' + str(max_hp)\n",
        "  return hp_str\n",
        "\n",
        "def get_total_level(char_data):\n",
        "  level = 0\n",
        "  class_list = char_data['data']['classes']\n",
        "  for char_class in class_list:\n",
        "    level += char_class['level']\n",
        "  return level\n",
        "\n",
        "\n",
        "\n",
        "def calc_barbarian_ac(char_data):\n",
        "  # check if they're wearing armor\n",
        "  wearing_armor = 0\n",
        "  for item in char_data['data']['inventory']:\n",
        "    if item['definition']['filterType'] == 'Armor' and item['equipped'] and item['description']['armorTypeID'] < 4:\n",
        "      wearing_armor += 1\n",
        "  # if so calc_standard_ac\n",
        "  if wearing_armor > 0:\n",
        "    AC = calc_standard_ac(char_data)\n",
        "  else:\n",
        "    # unarmored defense = 10 + DEX + CON\n",
        "    dex_score = calc_ability_score(char_data,'DEX')\n",
        "    con_score = calc_ability_score(char_data,'CON')\n",
        "    dex_mod = calc_score_modifier(dex_score)\n",
        "    con_mod = calc_score_modifier(con_score)\n",
        "    AC = 10 + dex_mod + con_mod\n",
        "  return AC\n",
        "  \n",
        "def calc_standard_ac(char_data):\n",
        "  AC = 0\n",
        "  dex_score = calc_ability_score(char_data,'DEX')\n",
        "  dex_mod = calc_score_modifier(dex_score)\n",
        "  for item in char_data['data']['inventory']:\n",
        "    if item['equipped'] and item['definition']['filterType'] == 'Armor':\n",
        "        if item['definition']['armorTypeId'] == 1: # light\n",
        "          AC += item['definition']['armorClass'] + dex_mod\n",
        "        elif item['definition']['armorTypeId'] == 2: # medium\n",
        "          if dex_mod > 2:\n",
        "            dex_bonus = 2\n",
        "          else:\n",
        "            dex_bonus = dex_mod\n",
        "          AC += item['definition']['armorClass'] + dex_bonus\n",
        "        elif item['definition']['armorTypeId'] == 3: # heavy\n",
        "          AC += item['definition']['armorClass']\n",
        "        elif item['definition']['armorTypeId'] == 4: # shield\n",
        "          AC += item['definition']['armorClass']\n",
        "  if AC == 0:\n",
        "    AC = 10 + dex_mod\n",
        "  return AC\n",
        "\n",
        "def get_bonus_ac(char_data):\n",
        "  bonus_ac = 0\n",
        "  modifiers = char_data['data']['modifiers']\n",
        "  for mod in modifiers:\n",
        "    for entry in modifiers[mod]:\n",
        "      if entry['subType'] == 'armor-class' and entry['type'] == 'bonus':\n",
        "        bonus_ac += entry['value']\n",
        "  return bonus_ac\n",
        "\n",
        "def get_ac(char_data):\n",
        "  #need to get class name because of fucking unarmored defense\n",
        "  #thanksObama\n",
        "  its_a_fucking_barbarian = 0\n",
        "  for char_class in char_data['data']['classes']:\n",
        "    if char_class['definition']['name'] == 'Barbarian':\n",
        "      its_a_fucking_barbarian += 1\n",
        "  if its_a_fucking_barbarian > 0:\n",
        "    AC = calc_barbarian_ac(char_data)\n",
        "  else:\n",
        "    AC = calc_standard_ac(char_data)\n",
        "  AC += get_bonus_ac(char_data)\n",
        "  return AC\n",
        "\n",
        "def get_pass_perception(char_data):\n",
        "  # 10 + perception + proficiency\n",
        "  wis_score = calc_ability_score(char_data,'WIS')\n",
        "  wis_modifier = calc_score_modifier(wis_score)\n",
        "  prof_multiplier = check_proficiency(char_data,'perception')\n",
        "  prof_bonus = get_proficiency_bonus(char_data)\n",
        "  proficiency_bonus = prof_multiplier * prof_bonus\n",
        "  return 10 + wis_modifier + proficiency_bonus\n",
        "\n",
        "def get_proficiency_bonus(char_data):\n",
        "  level = get_total_level(char_data)\n",
        "  if level <= 4:\n",
        "    prof_bonus = 2\n",
        "  elif level > 4 and level <= 8:\n",
        "    prof_bonus = 3\n",
        "  elif level > 8 and level <= 12:\n",
        "    prof_bonus = 4\n",
        "  elif level > 12 and level <= 16:\n",
        "    prof_bonus = 5\n",
        "  elif level > 16 and level <= 20:\n",
        "    prof_bonus = 6\n",
        "  else:\n",
        "    prof_bonus = 7\n",
        "  return prof_bonus\n",
        "\n",
        "def get_spell_slots(char_data):\n",
        "  pass #char_data['data']['spellSlots] - display available/used\n",
        "\n",
        "def check_proficiency(char_data,skill):\n",
        "  modifiers = char_data['data']['modifiers']\n",
        "  prof_multiplier = 0\n",
        "  for mod in modifiers:\n",
        "    for item in modifiers[mod]:\n",
        "      if item['subType'] == skill and item['type'] == 'proficiency':\n",
        "        prof_multiplier = 1\n",
        "      elif item['subType'] == skill and item['type'] == 'expertise':\n",
        "        prof_multiplier = 2\n",
        "  return prof_multiplier\n",
        "\n",
        "def calc_ability_score(char_data,ability):\n",
        "  lookup = {\n",
        "      'STR':[0,'strength-score'],\n",
        "      'DEX':[1,'dexterity-score'],\n",
        "      'CON':[2,'constitution-score'],\n",
        "      'INT':[3,'intelligence-score'],\n",
        "      'WIS':[4,'wisdom-score'],\n",
        "      'CHA':[5,'charisma-score']}\n",
        "  col = lookup[ability]\n",
        "  score_base = char_data['data']['stats'][col[0]]['value']\n",
        "  score_bonus_input = char_data['data']['bonusStats'][col[0]]['value']\n",
        "  if type(score_bonus_input) is int:\n",
        "    score_bonus = score_bonus_input\n",
        "  else:\n",
        "    score_bonus = 0\n",
        "  modifiers = char_data['data']['modifiers']\n",
        "  score_modifier = 0\n",
        "  for mod in modifiers:\n",
        "    for item in modifiers[mod]:\n",
        "      if item['subType'] == col[1] and item['type'] == 'bonus':\n",
        "          score_modifier += item['value']\n",
        "  return int(score_base + score_modifier + score_bonus)\n",
        "\n",
        "def calc_score_modifier(score):\n",
        "  return math.floor((score - 10) / 2) \n",
        "\n",
        "def update_players(character_list):\n",
        "  out_data = {}\n",
        "  for character in character_list:\n",
        "    url = 'https://character-service.dndbeyond.com/character/v3/character/' + character_list[character]\n",
        "    r = requests.get(url)\n",
        "    out_data[character] = r.json()\n",
        "  return out_data\n",
        "\n",
        "def table_output(out_data):\n",
        "  player_stats = pd.DataFrame(columns = ['Name',\n",
        "                                        'HP',\n",
        "                                        'AC',\n",
        "                                        'PP',\n",
        "                                        'DEX'])\n",
        "  for character in out_data:\n",
        "    name = out_data[character]['data']['name'].split(' ')[0]\n",
        "    hp = get_hp(out_data[character])\n",
        "    ac = get_ac(out_data[character])\n",
        "    pass_perception = get_pass_perception(out_data[character])\n",
        "    dex = int(calc_ability_score(out_data[character],'DEX'))\n",
        "    player_stats = player_stats.append({'Name':name,\n",
        "                                        'HP':hp,\n",
        "                                        'AC':ac,\n",
        "                                        'PP':pass_perception,\n",
        "                                        'DEX':dex},\n",
        "                                      ignore_index=True)\n",
        "\n",
        "  player_stats.set_index('Name',inplace=True) \n",
        "  print(player_stats)\n",
        "  return player_stats"
      ],
      "execution_count": 13,
      "outputs": []
    },
    {
      "cell_type": "markdown",
      "metadata": {
        "id": "eUD4JjaBT4U_"
      },
      "source": [
        "# Table Output (Friday Night Campaign)\r\n",
        "Click Play next to 'Show Code' to update\r\n",
        "\r\n"
      ]
    },
    {
      "cell_type": "code",
      "metadata": {
        "id": "l-8AvJV3T96e",
        "colab": {
          "base_uri": "https://localhost:8080/"
        },
        "cellView": "form",
        "outputId": "eb0b1cc4-1324-42eb-b2fe-84038371a5e9"
      },
      "source": [
        "#@title\n",
        "#input 'name':'number' here\n",
        "#unfortunately i don't have the skills yet to scrape the campaign page to get all these numbers\n",
        "character_list = {\n",
        "    'Rhogar':'30223927',\n",
        "    'Erin  ':'30224048',\n",
        "    'Haldir':'30635440',\n",
        "    'Lucius':'30231189',\n",
        "    'Pants ':'30402453',\n",
        "    'Casris':'38337729'}\n",
        "\n",
        "out_data = update_players(character_list)\n",
        "player_stats = table_output(out_data)"
      ],
      "execution_count": 14,
      "outputs": [
        {
          "output_type": "stream",
          "text": [
            "           HP  AC  PP DEX\n",
            "Name                     \n",
            "Rhogar  52/52  20  10   8\n",
            "Erin    33/33  17  17  18\n",
            "Haldir  32/52  14  15  17\n",
            "Lucius  44/44  12  11  14\n",
            "Pants   65/65  15  14  13\n",
            "Casris  31/31  15  16  15\n"
          ],
          "name": "stdout"
        }
      ]
    },
    {
      "cell_type": "markdown",
      "metadata": {
        "id": "0U7gjbtkaLWz"
      },
      "source": [
        "# Table Output (Sunday Night Campaign)\r\n",
        "Click Play next to 'Show Code' to update"
      ]
    },
    {
      "cell_type": "code",
      "metadata": {
        "colab": {
          "base_uri": "https://localhost:8080/"
        },
        "cellView": "form",
        "id": "aQL-zXV9aVGV",
        "outputId": "b000be1a-b371-4317-83f4-e5d55f7cf947"
      },
      "source": [
        "#@title\n",
        "#input 'name':'number' here\n",
        "#unfortunately i don't have the skills yet to scrape the campaign page to get all these numbers\n",
        "character_list = {\n",
        "    'Abed':'41898429',\n",
        "    'Avery  ':'42117977',\n",
        "    'Mattrick':'41025428',\n",
        "    'Thia':'41367244',\n",
        "    'Thorin ':'41777821',\n",
        "    'Willow':'42122692'}\n",
        "\n",
        "out_data = update_players(character_list)\n",
        "player_stats = table_output(out_data)"
      ],
      "execution_count": 15,
      "outputs": [
        {
          "output_type": "stream",
          "text": [
            "             HP  AC  PP DEX\n",
            "Name                       \n",
            "Abed,     20/20  18  12   8\n",
            "Avery       9/9  14  14  17\n",
            "Mattrick  18/18  15  12  13\n",
            "Thia      17/17  14  15  15\n",
            "Thorin    10/10  18  12  12\n",
            "Willow    12/12  13  12  16\n"
          ],
          "name": "stdout"
        }
      ]
    }
  ]
}